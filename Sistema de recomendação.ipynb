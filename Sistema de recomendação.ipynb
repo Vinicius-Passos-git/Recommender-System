{
 "cells": [
  {
   "cell_type": "markdown",
   "metadata": {},
   "source": [
    "# Sistema de recomendação\n",
    "- Filtro colaborativo baseado no usuário\n",
    "- Filtro colaborativo baseado no item"
   ]
  },
  {
   "cell_type": "code",
   "execution_count": 58,
   "metadata": {},
   "outputs": [],
   "source": [
    "import pandas as pd\n",
    "import numpy as np\n",
    "import math\n",
    "import pylab as plt"
   ]
  },
  {
   "cell_type": "code",
   "execution_count": 59,
   "metadata": {},
   "outputs": [],
   "source": [
    "#Será criada uma lista de pessoas que assistiram filmes e as notas que eles deram para cada filme\n",
    "movie_user_preferences={'Jill': {'Avenger: Age of Ultron': 7.0,\n",
    "'Django Unchained': 6.5,\n",
    "'Gone Girl': 9.0,\n",
    "'Kill the Messenger': 8.0},\n",
    "'Julia': {'Avenger: Age of Ultron': 10.0,\n",
    "'Django Unchained': 6.0,\n",
    "'Gone Girl': 6.5,\n",
    "'Kill the Messenger': 6.0,\n",
    "'Zoolander': 6.5},\n",
    "'Max': {'Avenger: Age of Ultron': 7.0,\n",
    "'Django Unchained': 7.0,\n",
    "'Gone Girl': 10.0,\n",
    "'Horrible Bosses 2': 6.0,\n",
    "'Kill the Messenger': 5.0,\n",
    "'Zoolander': 10.0},\n",
    "'Robert': {'Avenger: Age of Ultron': 8.0,\n",
    "'Django Unchained': 7.0,\n",
    "'Horrible Bosses 2': 5.0,\n",
    "'Kill the Messenger': 9.0,\n",
    "'Zoolander': 9.0},\n",
    "'Sam': {'Avenger: Age of Ultron': 10.0,\n",
    "'Django Unchained': 7.5,\n",
    "'Gone Girl': 6.0,\n",
    "'Horrible Bosses 2': 3.0,\n",
    "'Kill the Messenger': 5.5,\n",
    "'Zoolander': 7.0},\n",
    "'Toby': {'Avenger: Age of Ultron': 8.5,\n",
    "'Django Unchained': 9.0,\n",
    "'Zoolander': 2.0},\n",
    "'William': {'Avenger: Age of Ultron': 6.0,\n",
    "'Django Unchained': 8.0,\n",
    "'Gone Girl': 7.0,\n",
    "'Horrible Bosses 2': 4.0,\n",
    "'Kill the Messenger': 6.5,\n",
    "'Zoolander': 4.0}}"
   ]
  },
  {
   "cell_type": "code",
   "execution_count": 60,
   "metadata": {},
   "outputs": [
    {
     "data": {
      "text/plain": [
       "7.0"
      ]
     },
     "execution_count": 60,
     "metadata": {},
     "output_type": "execute_result"
    }
   ],
   "source": [
    "#Verifica a nota que o Willian deu para o filme/serie Gone Girl\n",
    "movie_user_preferences['William']['Gone Girl']"
   ]
  },
  {
   "cell_type": "markdown",
   "metadata": {},
   "source": [
    "#### Filtro colocaborativo baseado no usuário\n",
    "- A similiridade entre os usuários pode ser calculada utilizando a Correlação de Pearson, a distância Euclidiana, a distância de Manhattan, dentre outras"
   ]
  },
  {
   "cell_type": "markdown",
   "metadata": {},
   "source": [
    "##### Utilizando a distância Euclidiana"
   ]
  },
  {
   "cell_type": "code",
   "execution_count": 61,
   "metadata": {},
   "outputs": [],
   "source": [
    "data = []\n",
    "for i in movie_user_preferences.keys():\n",
    "    try:\n",
    "        data.append( (i\n",
    "                    ,movie_user_preferences[i]['Django Unchained']\n",
    "                    ,movie_user_preferences[i]['Avenger: Age of Ultron']) )\n",
    "    except:\n",
    "        pass"
   ]
  },
  {
   "cell_type": "code",
   "execution_count": 62,
   "metadata": {},
   "outputs": [
    {
     "data": {
      "text/html": [
       "<div>\n",
       "<style scoped>\n",
       "    .dataframe tbody tr th:only-of-type {\n",
       "        vertical-align: middle;\n",
       "    }\n",
       "\n",
       "    .dataframe tbody tr th {\n",
       "        vertical-align: top;\n",
       "    }\n",
       "\n",
       "    .dataframe thead th {\n",
       "        text-align: right;\n",
       "    }\n",
       "</style>\n",
       "<table border=\"1\" class=\"dataframe\">\n",
       "  <thead>\n",
       "    <tr style=\"text-align: right;\">\n",
       "      <th></th>\n",
       "      <th>user</th>\n",
       "      <th>django</th>\n",
       "      <th>avenger</th>\n",
       "    </tr>\n",
       "  </thead>\n",
       "  <tbody>\n",
       "    <tr>\n",
       "      <th>0</th>\n",
       "      <td>Jill</td>\n",
       "      <td>6.5</td>\n",
       "      <td>7.0</td>\n",
       "    </tr>\n",
       "    <tr>\n",
       "      <th>1</th>\n",
       "      <td>Julia</td>\n",
       "      <td>6.0</td>\n",
       "      <td>10.0</td>\n",
       "    </tr>\n",
       "    <tr>\n",
       "      <th>2</th>\n",
       "      <td>Max</td>\n",
       "      <td>7.0</td>\n",
       "      <td>7.0</td>\n",
       "    </tr>\n",
       "    <tr>\n",
       "      <th>3</th>\n",
       "      <td>Robert</td>\n",
       "      <td>7.0</td>\n",
       "      <td>8.0</td>\n",
       "    </tr>\n",
       "    <tr>\n",
       "      <th>4</th>\n",
       "      <td>Sam</td>\n",
       "      <td>7.5</td>\n",
       "      <td>10.0</td>\n",
       "    </tr>\n",
       "    <tr>\n",
       "      <th>5</th>\n",
       "      <td>Toby</td>\n",
       "      <td>9.0</td>\n",
       "      <td>8.5</td>\n",
       "    </tr>\n",
       "    <tr>\n",
       "      <th>6</th>\n",
       "      <td>William</td>\n",
       "      <td>8.0</td>\n",
       "      <td>6.0</td>\n",
       "    </tr>\n",
       "  </tbody>\n",
       "</table>\n",
       "</div>"
      ],
      "text/plain": [
       "      user  django  avenger\n",
       "0     Jill     6.5      7.0\n",
       "1    Julia     6.0     10.0\n",
       "2      Max     7.0      7.0\n",
       "3   Robert     7.0      8.0\n",
       "4      Sam     7.5     10.0\n",
       "5     Toby     9.0      8.5\n",
       "6  William     8.0      6.0"
      ]
     },
     "execution_count": 62,
     "metadata": {},
     "output_type": "execute_result"
    }
   ],
   "source": [
    "df = pd.DataFrame(data = data, columns = [ 'user', 'django', 'avenger'])\n",
    "df"
   ]
  },
  {
   "cell_type": "code",
   "execution_count": 63,
   "metadata": {},
   "outputs": [
    {
     "data": {
      "image/png": "[encoded data removed]",
      "text/plain": [
       "<Figure size 432x288 with 1 Axes>"
      ]
     },
     "metadata": {
      "needs_background": "light"
     },
     "output_type": "display_data"
    }
   ],
   "source": [
    "plt.scatter(df.django, df.avenger)\n",
    "plt.xlabel('Django')\n",
    "plt.ylabel('Avengers')\n",
    "for i, txt in enumerate(df.user):\n",
    "    plt.annotate(txt, (df.django[i], df.avenger[i]))\n",
    "plt.show()"
   ]
  },
  {
   "cell_type": "markdown",
   "metadata": {},
   "source": [
    "##### Distância Euclidiana"
   ]
  },
  {
   "cell_type": "code",
   "execution_count": 64,
   "metadata": {},
   "outputs": [
    {
     "data": {
      "text/plain": [
       "2.9154759474226504"
      ]
     },
     "execution_count": 64,
     "metadata": {},
     "output_type": "execute_result"
    }
   ],
   "source": [
    "#Distância entre Jill and Toby\n",
    "math.sqrt(math.pow(8.5-7, 2) + math.pow(9-6.5, 2))"
   ]
  },
  {
   "cell_type": "code",
   "execution_count": 65,
   "metadata": {},
   "outputs": [
    {
     "data": {
      "text/plain": [
       "1.0"
      ]
     },
     "execution_count": 65,
     "metadata": {},
     "output_type": "execute_result"
    }
   ],
   "source": [
    "#Distância entre Robert and Max\n",
    "math.sqrt(math.pow(8-7, 2) + math.pow(7-7, 2))"
   ]
  },
  {
   "cell_type": "code",
   "execution_count": 66,
   "metadata": {},
   "outputs": [
    {
     "data": {
      "text/plain": [
       "0.2553967929896867"
      ]
     },
     "execution_count": 66,
     "metadata": {},
     "output_type": "execute_result"
    }
   ],
   "source": [
    "#Calculando a similiridade da distância euclidiana entre Jill and Toby\n",
    "1 / (1 + math.sqrt(math.pow(8.5-7, 2) + math.pow(9-6.5, 2)))"
   ]
  },
  {
   "cell_type": "code",
   "execution_count": 67,
   "metadata": {},
   "outputs": [
    {
     "data": {
      "text/plain": [
       "0.5"
      ]
     },
     "execution_count": 67,
     "metadata": {},
     "output_type": "execute_result"
    }
   ],
   "source": [
    "#Calculando a similiridade da distância euclidiana entre Robert and Max\n",
    "1 / (1 + math.sqrt(math.pow(8-7, 2) + math.pow(7-7, 2)))"
   ]
  },
  {
   "cell_type": "code",
   "execution_count": 74,
   "metadata": {},
   "outputs": [],
   "source": [
    "#Função para o calculo de similaridade da distância euclidiana\n",
    "def sim_distance(prefs, person1, person2):\n",
    "    si = {}\n",
    "    for item in prefs[person1]:\n",
    "        if item in prefs[person2]:\n",
    "            si[item] = 1\n",
    "    if len(si) == 0:\n",
    "        return 0 \n",
    "    sum_of_squares = sum([pow(prefs[person1][item] - prefs[person2][item], 2)\n",
    "                          for item in prefs[person1] if item in prefs[person2]])\n",
    "    return 1 / (1+sum_of_squares)"
   ]
  },
  {
   "cell_type": "code",
   "execution_count": 75,
   "metadata": {},
   "outputs": [
    {
     "data": {
      "text/plain": [
       "0.03278688524590164"
      ]
     },
     "execution_count": 75,
     "metadata": {},
     "output_type": "execute_result"
    }
   ],
   "source": [
    "sim_distance(movie_user_preferences, 'Sam', 'Toby')"
   ]
  },
  {
   "cell_type": "markdown",
   "metadata": {},
   "source": [
    "#### Similaridade entre os usuários com a distância euclidiana"
   ]
  },
  {
   "cell_type": "code",
   "execution_count": 76,
   "metadata": {},
   "outputs": [],
   "source": [
    "def top_matches(prefs, person, n = 5, similarity = sim_distance):\n",
    "    scores=[(similarity(prefs, person, other), other)\n",
    "    for other in prefs if other != person]\n",
    "    \n",
    "    scores.sort()\n",
    "    scores.reverse()\n",
    "    return scores[0:n]"
   ]
  },
  {
   "cell_type": "code",
   "execution_count": 77,
   "metadata": {},
   "outputs": [
    {
     "data": {
      "text/plain": [
       "[(0.10526315789473684, 'Jill'),\n",
       " (0.08163265306122448, 'William'),\n",
       " (0.03278688524590164, 'Sam')]"
      ]
     },
     "execution_count": 77,
     "metadata": {},
     "output_type": "execute_result"
    }
   ],
   "source": [
    "top_matches(movie_user_preferences, 'Toby', n = 3, similarity = sim_distance)"
   ]
  },
  {
   "cell_type": "code",
   "execution_count": 79,
   "metadata": {},
   "outputs": [],
   "source": [
    "#### Correlação de Pearson comm distância\n",
    "#Cria um dataframe dos usuarios e suas notas\n",
    "def create_movies_user_df(input_data, user1, user2):\n",
    "    data = []\n",
    "    for movie in input_data[user1].keys():\n",
    "        if movie in input_data[user2].keys():\n",
    "            try:\n",
    "                data.append( (movie\n",
    "                             ,input_data[user1][movie]\n",
    "                             ,input_data[user2][movie]))\n",
    "            except:\n",
    "                pass\n",
    "    \n",
    "    return pd.DataFrame(data = data, columns = ['movie', user1, user2])"
   ]
  },
  {
   "cell_type": "code",
   "execution_count": 97,
   "metadata": {},
   "outputs": [
    {
     "data": {
      "text/html": [
       "<div>\n",
       "<style scoped>\n",
       "    .dataframe tbody tr th:only-of-type {\n",
       "        vertical-align: middle;\n",
       "    }\n",
       "\n",
       "    .dataframe tbody tr th {\n",
       "        vertical-align: top;\n",
       "    }\n",
       "\n",
       "    .dataframe thead th {\n",
       "        text-align: right;\n",
       "    }\n",
       "</style>\n",
       "<table border=\"1\" class=\"dataframe\">\n",
       "  <thead>\n",
       "    <tr style=\"text-align: right;\">\n",
       "      <th></th>\n",
       "      <th>movie</th>\n",
       "      <th>Sam</th>\n",
       "      <th>William</th>\n",
       "    </tr>\n",
       "  </thead>\n",
       "  <tbody>\n",
       "    <tr>\n",
       "      <th>0</th>\n",
       "      <td>Avenger: Age of Ultron</td>\n",
       "      <td>10.0</td>\n",
       "      <td>6.0</td>\n",
       "    </tr>\n",
       "    <tr>\n",
       "      <th>1</th>\n",
       "      <td>Django Unchained</td>\n",
       "      <td>7.5</td>\n",
       "      <td>8.0</td>\n",
       "    </tr>\n",
       "    <tr>\n",
       "      <th>2</th>\n",
       "      <td>Gone Girl</td>\n",
       "      <td>6.0</td>\n",
       "      <td>7.0</td>\n",
       "    </tr>\n",
       "    <tr>\n",
       "      <th>3</th>\n",
       "      <td>Horrible Bosses 2</td>\n",
       "      <td>3.0</td>\n",
       "      <td>4.0</td>\n",
       "    </tr>\n",
       "    <tr>\n",
       "      <th>4</th>\n",
       "      <td>Kill the Messenger</td>\n",
       "      <td>5.5</td>\n",
       "      <td>6.5</td>\n",
       "    </tr>\n",
       "    <tr>\n",
       "      <th>5</th>\n",
       "      <td>Zoolander</td>\n",
       "      <td>7.0</td>\n",
       "      <td>4.0</td>\n",
       "    </tr>\n",
       "  </tbody>\n",
       "</table>\n",
       "</div>"
      ],
      "text/plain": [
       "                    movie   Sam  William\n",
       "0  Avenger: Age of Ultron  10.0      6.0\n",
       "1        Django Unchained   7.5      8.0\n",
       "2               Gone Girl   6.0      7.0\n",
       "3       Horrible Bosses 2   3.0      4.0\n",
       "4      Kill the Messenger   5.5      6.5\n",
       "5               Zoolander   7.0      4.0"
      ]
     },
     "execution_count": 97,
     "metadata": {},
     "output_type": "execute_result"
    }
   ],
   "source": [
    "#Cria o data frame com avaliações de Sam e William\n",
    "df = create_movies_user_df(movie_user_preferences, 'Sam', 'William')\n",
    "df"
   ]
  },
  {
   "cell_type": "code",
   "execution_count": 117,
   "metadata": {},
   "outputs": [
    {
     "data": {
      "image/png": "[encoded data removed]",
      "text/plain": [
       "<Figure size 432x288 with 1 Axes>"
      ]
     },
     "metadata": {
      "needs_background": "light"
     },
     "output_type": "display_data"
    }
   ],
   "source": [
    "#plot a relação das notas\n",
    "plt.scatter(df.Sam, df.William)\n",
    "plt.xlabel('Sam')\n",
    "plt.ylabel('William')\n",
    "for i, txt in enumerate(df.movie):\n",
    "    plt.annotate(txt, (df.Sam[i] , df.William[i]))\n",
    "plt.show()"
   ]
  },
  {
   "cell_type": "code",
   "execution_count": 118,
   "metadata": {},
   "outputs": [
    {
     "data": {
      "text/plain": [
       "(0.37067401970178426, 0.46945413268410935)"
      ]
     },
     "execution_count": 118,
     "metadata": {},
     "output_type": "execute_result"
    }
   ],
   "source": [
    "#calculo da correlação\n",
    "from scipy.stats import pearsonr\n",
    "pearsonr(df.Sam, df.William)"
   ]
  },
  {
   "cell_type": "code",
   "execution_count": 120,
   "metadata": {},
   "outputs": [
    {
     "data": {
      "text/html": [
       "<div>\n",
       "<style scoped>\n",
       "    .dataframe tbody tr th:only-of-type {\n",
       "        vertical-align: middle;\n",
       "    }\n",
       "\n",
       "    .dataframe tbody tr th {\n",
       "        vertical-align: top;\n",
       "    }\n",
       "\n",
       "    .dataframe thead th {\n",
       "        text-align: right;\n",
       "    }\n",
       "</style>\n",
       "<table border=\"1\" class=\"dataframe\">\n",
       "  <thead>\n",
       "    <tr style=\"text-align: right;\">\n",
       "      <th></th>\n",
       "      <th>movie</th>\n",
       "      <th>Sam</th>\n",
       "      <th>Julia</th>\n",
       "    </tr>\n",
       "  </thead>\n",
       "  <tbody>\n",
       "    <tr>\n",
       "      <th>0</th>\n",
       "      <td>Avenger: Age of Ultron</td>\n",
       "      <td>10.0</td>\n",
       "      <td>10.0</td>\n",
       "    </tr>\n",
       "    <tr>\n",
       "      <th>1</th>\n",
       "      <td>Django Unchained</td>\n",
       "      <td>7.5</td>\n",
       "      <td>6.0</td>\n",
       "    </tr>\n",
       "    <tr>\n",
       "      <th>2</th>\n",
       "      <td>Gone Girl</td>\n",
       "      <td>6.0</td>\n",
       "      <td>6.5</td>\n",
       "    </tr>\n",
       "    <tr>\n",
       "      <th>3</th>\n",
       "      <td>Kill the Messenger</td>\n",
       "      <td>5.5</td>\n",
       "      <td>6.0</td>\n",
       "    </tr>\n",
       "    <tr>\n",
       "      <th>4</th>\n",
       "      <td>Zoolander</td>\n",
       "      <td>7.0</td>\n",
       "      <td>6.5</td>\n",
       "    </tr>\n",
       "  </tbody>\n",
       "</table>\n",
       "</div>"
      ],
      "text/plain": [
       "                    movie   Sam  Julia\n",
       "0  Avenger: Age of Ultron  10.0   10.0\n",
       "1        Django Unchained   7.5    6.0\n",
       "2               Gone Girl   6.0    6.5\n",
       "3      Kill the Messenger   5.5    6.0\n",
       "4               Zoolander   7.0    6.5"
      ]
     },
     "execution_count": 120,
     "metadata": {},
     "output_type": "execute_result"
    }
   ],
   "source": [
    "#Cria o data frame com avaliações de Sam e Julia\n",
    "df2 = create_movies_user_df(movie_user_preferences, 'Sam', 'Julia')\n",
    "df2"
   ]
  },
  {
   "cell_type": "code",
   "execution_count": 121,
   "metadata": {},
   "outputs": [
    {
     "data": {
      "image/png": "[encoded data removed]",
      "text/plain": [
       "<Figure size 432x288 with 1 Axes>"
      ]
     },
     "metadata": {
      "needs_background": "light"
     },
     "output_type": "display_data"
    }
   ],
   "source": [
    "#plot a relação das notas\n",
    "plt.scatter(df2.Sam, df2.Julia)\n",
    "plt.xlabel('Sam')\n",
    "plt.ylabel('Julia')\n",
    "for i, txt in enumerate(df2.movie):\n",
    "    plt.annotate(txt, (df2.Sam[i] , df2.Julia[i]))\n",
    "plt.show()"
   ]
  },
  {
   "cell_type": "code",
   "execution_count": 122,
   "metadata": {},
   "outputs": [
    {
     "data": {
      "text/plain": [
       "(0.8828518332602512, 0.047277507003439405)"
      ]
     },
     "execution_count": 122,
     "metadata": {},
     "output_type": "execute_result"
    }
   ],
   "source": [
    "#correlação\n",
    "pearsonr(df2.Sam, df2.Julia)"
   ]
  },
  {
   "cell_type": "code",
   "execution_count": 157,
   "metadata": {},
   "outputs": [],
   "source": [
    "#Cria formula para retorna a correlação entre dois usuários\n",
    "def sim_pearson(prefs, p1, p2):\n",
    "    si = {}\n",
    "    for item in prefs[p1]:\n",
    "        if item in prefs[p2]:\n",
    "            si[item] = 1\n",
    "        \n",
    "    n = len(si)\n",
    "    \n",
    "    if n == 0:\n",
    "        return 0\n",
    "    \n",
    "    sum1 = sum([prefs[p1][it] for it in si])\n",
    "    sum2 = sum([prefs[p2][it] for it in si])\n",
    "    \n",
    "    sum1sq = sum([pow(prefs[p1][it], 2) for it in si])\n",
    "    sum2sq = sum([pow(prefs[p2][it], 2) for it in si])\n",
    "    \n",
    "    psum = sum([prefs[p1][it]* prefs[p2][it] for it in si])\n",
    "    \n",
    "    num = psum-(sum1*sum2/n)\n",
    "    den = math.sqrt((sum1sq - pow(sum1,2)/n) * (sum2sq - pow(sum2,2)/n))\n",
    "    if den == 0:\n",
    "        return 0\n",
    "    r = num/den\n",
    "    return r"
   ]
  },
  {
   "cell_type": "code",
   "execution_count": 158,
   "metadata": {},
   "outputs": [
    {
     "data": {
      "text/plain": [
       "0.8828518332602507"
      ]
     },
     "execution_count": 158,
     "metadata": {},
     "output_type": "execute_result"
    }
   ],
   "source": [
    "sim_pearson(movie_user_preferences, 'Sam', 'Julia')"
   ]
  },
  {
   "cell_type": "code",
   "execution_count": 161,
   "metadata": {},
   "outputs": [
    {
     "data": {
      "text/plain": [
       "[(0.8962581595302719, 'William'),\n",
       " (0.5775410594096947, 'Sam'),\n",
       " (0.33779725988147685, 'Julia')]"
      ]
     },
     "execution_count": 161,
     "metadata": {},
     "output_type": "execute_result"
    }
   ],
   "source": [
    "top_matches(movie_user_preferences, 'Toby', n = 3, similarity = sim_pearson)"
   ]
  },
  {
   "cell_type": "markdown",
   "metadata": {},
   "source": [
    "### Como agora podemos saber quem é similar a 'você', podemos ver qual o score dos filmes que podem ser recomendados a 'você'"
   ]
  },
  {
   "cell_type": "code",
   "execution_count": 184,
   "metadata": {},
   "outputs": [],
   "source": [
    "def get_recommendations(prefs, person, similarity = sim_pearson):\n",
    "    totals = {}\n",
    "    simsums = {}\n",
    "    \n",
    "    for other in prefs:\n",
    "        if other == person: \n",
    "            continue\n",
    "        sim = similarity(prefs, person, other)\n",
    "        \n",
    "        if sim <= 0:\n",
    "            continue\n",
    "        for item in prefs[other]:\n",
    "            if item not in prefs[person] or prefs[person][item] == 0:\n",
    "                totals.setdefault(item, 0)\n",
    "                totals[item] += prefs[other][item]*sim\n",
    "                simsums.setdefault(item,0)\n",
    "                simsums[item] += sim\n",
    "                \n",
    "    rankings = [(total/simsums[item], item) for item,total in totals.items()]\n",
    "    \n",
    "    rankings.sort( )\n",
    "    rankings.reverse( )\n",
    "    return rankings"
   ]
  },
  {
   "cell_type": "code",
   "execution_count": 185,
   "metadata": {},
   "outputs": [
    {
     "data": {
      "text/plain": [
       "[(6.587965809121004, 'Gone Girl'),\n",
       " (6.087965809121004, 'Kill the Messenger'),\n",
       " (3.608127720528246, 'Horrible Bosses 2')]"
      ]
     },
     "execution_count": 185,
     "metadata": {},
     "output_type": "execute_result"
    }
   ],
   "source": [
    "get_recommendations(movie_user_preferences,'Toby')"
   ]
  },
  {
   "cell_type": "code",
   "execution_count": 186,
   "metadata": {},
   "outputs": [
    {
     "data": {
      "text/plain": [
       "[(7.773043918833565, 'Gone Girl'),\n",
       " (6.976295282563891, 'Kill the Messenger'),\n",
       " (4.093380589669568, 'Horrible Bosses 2')]"
      ]
     },
     "execution_count": 186,
     "metadata": {},
     "output_type": "execute_result"
    }
   ],
   "source": [
    "get_recommendations(movie_user_preferences,'Toby', similarity = sim_distance)"
   ]
  },
  {
   "cell_type": "code",
   "execution_count": null,
   "metadata": {},
   "outputs": [],
   "source": []
  }
 ],
 "metadata": {
  "kernelspec": {
   "display_name": "Python 3",
   "language": "python",
   "name": "python3"
  },
  "language_info": {
   "codemirror_mode": {
    "name": "ipython",
    "version": 3
   },
   "file_extension": ".py",
   "mimetype": "text/x-python",
   "name": "python",
   "nbconvert_exporter": "python",
   "pygments_lexer": "ipython3",
   "version": "3.8.5"
  }
 },
 "nbformat": 4,
 "nbformat_minor": 4
}
